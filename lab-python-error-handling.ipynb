{
 "cells": [
  {
   "cell_type": "markdown",
   "id": "25d7736c-ba17-4aff-b6bb-66eba20fbf4e",
   "metadata": {},
   "source": [
    "# Lab | Error Handling"
   ]
  },
  {
   "cell_type": "markdown",
   "id": "bc99b386-7508-47a0-bcdb-d969deaf6c8b",
   "metadata": {},
   "source": [
    "## Exercise: Error Handling for Managing Customer Orders\n",
    "\n",
    "The implementation of your code for managing customer orders assumes that the user will always enter a valid input. \n",
    "\n",
    "For example, we could modify the `initialize_inventory` function to include error handling.\n",
    "   - If the user enters an invalid quantity (e.g., a negative value or a non-numeric value), display an error message and ask them to re-enter the quantity for that product.\n",
    "   - Use a try-except block to handle the error and continue prompting the user until a valid quantity is entered.\n",
    "\n",
    "```python\n",
    "# Step 1: Define the function for initializing the inventory with error handling\n",
    "def initialize_inventory(products):\n",
    "    inventory = {}\n",
    "    for product in products:\n",
    "        valid_quantity = False\n",
    "        while not valid_quantity:\n",
    "            try:\n",
    "                quantity = int(input(f\"Enter the quantity of {product}s available: \"))\n",
    "                if quantity < 0:\n",
    "                    raise ValueError(\"Invalid quantity! Please enter a non-negative value.\")\n",
    "                valid_quantity = True\n",
    "            except ValueError as error:\n",
    "                print(f\"Error: {error}\")\n",
    "        inventory[product] = quantity\n",
    "    return inventory\n",
    "\n",
    "# Or, in another way:\n",
    "\n",
    "def initialize_inventory(products):\n",
    "    inventory = {}\n",
    "    for product in products:\n",
    "        valid_input = False\n",
    "        while not valid_input:\n",
    "            try:\n",
    "                quantity = int(input(f\"Enter the quantity of {product}s available: \"))\n",
    "                if quantity >= 0:\n",
    "                    inventory[product] = quantity\n",
    "                    valid_input = True\n",
    "                else:\n",
    "                    print(\"Quantity cannot be negative. Please enter a valid quantity.\")\n",
    "            except ValueError:\n",
    "                print(\"Invalid input. Please enter a valid quantity.\")\n",
    "    return inventory\n",
    "```\n",
    "\n",
    "Let's enhance your code by implementing error handling to handle invalid inputs.\n",
    "\n",
    "Follow the steps below to complete the exercise:\n",
    "\n",
    "2. Modify the `calculate_total_price` function to include error handling.\n",
    "   - If the user enters an invalid price (e.g., a negative value or a non-numeric value), display an error message and ask them to re-enter the price for that product.\n",
    "   - Use a try-except block to handle the error and continue prompting the user until a valid price is entered.\n",
    "\n",
    "3. Modify the `get_customer_orders` function to include error handling.\n",
    "   - If the user enters an invalid number of orders (e.g., a negative value or a non-numeric value), display an error message and ask them to re-enter the number of orders.\n",
    "   - If the user enters an invalid product name (e.g., a product name that is not in the inventory), or that doesn't have stock available, display an error message and ask them to re-enter the product name. *Hint: you will need to pass inventory as a parameter*\n",
    "   - Use a try-except block to handle the error and continue prompting the user until a valid product name is entered.\n",
    "\n",
    "4. Test your code by running the program and deliberately entering invalid quantities and product names. Make sure the error handling mechanism works as expected.\n"
   ]
<<<<<<< HEAD
=======
  },
  {
   "cell_type": "code",
   "execution_count": 8,
   "id": "1f52e16a",
   "metadata": {},
   "outputs": [],
   "source": [
    "# Step 1: Define the function for initializing the inventory with error handling\n",
    "def initialize_inventory(products):\n",
    "    inventory = {}\n",
    "    for product in products:\n",
    "        valid_quantity = False\n",
    "        while not valid_quantity:\n",
    "            try:\n",
    "                quantity = int(input(f\"Enter the quantity of {product}s available: \"))\n",
    "                if quantity < 0:\n",
    "                    raise ValueError(\"Invalid quantity! Please enter a non-negative value.\")\n",
    "                valid_quantity = True\n",
    "            except ValueError as error:\n",
    "                print(f\"Error: {error}\")\n",
    "        inventory[product] = quantity\n",
    "    return inventory\n"
   ]
  },
  {
   "cell_type": "code",
   "execution_count": 9,
   "id": "f4b0b9ba",
   "metadata": {},
   "outputs": [],
   "source": [
    "# Step 2: Modify function to handle invalid price inputs\n",
    "def calculate_total_price(products):\n",
    "    prices = {}\n",
    "    for product in products:\n",
    "        while True:\n",
    "            try:\n",
    "                price = float(input(f\"Enter the price of {product}: \"))\n",
    "                if price < 0:\n",
    "                    raise ValueError(\"Price cannot be negative. Please enter a valid price.\")\n",
    "                prices[product] = price\n",
    "                break  # Exit loop when valid input is received\n",
    "            except ValueError as error:\n",
    "                print(f\"Error: {error}\")\n",
    "    return prices\n"
   ]
  },
  {
   "cell_type": "code",
   "execution_count": 12,
   "id": "6693f09a",
   "metadata": {},
   "outputs": [],
   "source": [
    "# Step 3: Modify function to handle invalid product selection and order quantities\n",
    "def get_customer_orders(inventory):\n",
    "    orders = {}\n",
    "    \n",
    "    while True:\n",
    "        product = input(\"Enter the product name to order (or type 'exit' to finish): \").strip().lower()\n",
    "\n",
    "        if product == \"exit\":\n",
    "            break \n",
    "\n",
    "        if product not in inventory:\n",
    "            print(\"Error: Product not found in inventory. Please enter a valid product name.\")\n",
    "            continue  # Ask for product again\n",
    "\n",
    "        while True:\n",
    "            try:\n",
    "                quantity = int(input(f\"Enter the quantity for {product}: \"))\n",
    "                if quantity < 0:\n",
    "                    raise ValueError(\"Quantity cannot be negative. Please enter a valid number.\")\n",
    "                if quantity > inventory[product]:\n",
    "                    raise ValueError(\"Not enough stock available. Please enter a lower quantity.\")\n",
    "                \n",
    "                orders[product] = quantity\n",
    "                break  # Exit loop when valid input is received\n",
    "            except ValueError as error:\n",
    "                print(f\"Error: {error}\")\n",
    "    \n",
    "    return orders\n"
   ]
  },
  {
   "cell_type": "code",
   "execution_count": 13,
   "id": "5e3949e1",
   "metadata": {},
   "outputs": [
    {
     "name": "stdout",
     "output_type": "stream",
     "text": [
      "\n",
      "Initializing Inventory:\n",
      "Error: invalid literal for int() with base 10: ''\n",
      "\n",
      "Setting Product Prices:\n",
      "Error: could not convert string to float: ''\n",
      "\n",
      "Customer Orders:\n",
      "Error: invalid literal for int() with base 10: 'pig'\n",
      "Error: Product not found in inventory. Please enter a valid product name.\n",
      "\n",
      "Final Data:\n",
      "Inventory: {'cow': 22, 'sheep': 33, 'pig': 44, 'chicken': 5, 'goat': 66}\n",
      "Prices: {'cow': 77.0, 'sheep': 55.0, 'pig': 4.0, 'chicken': 3.0, 'goat': 2.0}\n",
      "Customer Orders: {'cow': 2, 'pig': 33}\n"
     ]
    }
   ],
   "source": [
    "# Full program to test error handling\n",
    "def main():\n",
    "    products = [\"cow\", \"sheep\", \"pig\", \"chicken\", \"goat\"]\n",
    "    \n",
    "    print(\"\\nInitializing Inventory:\")\n",
    "    inventory = initialize_inventory(products)\n",
    "    \n",
    "    print(\"\\nSetting Product Prices:\")\n",
    "    prices = calculate_total_price(products)\n",
    "\n",
    "    print(\"\\nCustomer Orders:\")\n",
    "    customer_orders = get_customer_orders(inventory)\n",
    "\n",
    "    print(\"\\nFinal Data:\")\n",
    "    print(\"Inventory:\", inventory)\n",
    "    print(\"Prices:\", prices)\n",
    "    print(\"Customer Orders:\", customer_orders)\n",
    "\n",
    "# Run the program\n",
    "main()\n",
    "\n"
   ]
  },
  {
   "cell_type": "code",
   "execution_count": null,
   "id": "f28044a0",
   "metadata": {},
   "outputs": [],
   "source": []
>>>>>>> 3104567 (Submitting Lab Python Error Handling)
  }
 ],
 "metadata": {
  "kernelspec": {
<<<<<<< HEAD
   "display_name": "Python 3 (ipykernel)",
=======
   "display_name": "base",
>>>>>>> 3104567 (Submitting Lab Python Error Handling)
   "language": "python",
   "name": "python3"
  },
  "language_info": {
   "codemirror_mode": {
    "name": "ipython",
    "version": 3
   },
   "file_extension": ".py",
   "mimetype": "text/x-python",
   "name": "python",
   "nbconvert_exporter": "python",
   "pygments_lexer": "ipython3",
<<<<<<< HEAD
   "version": "3.9.13"
=======
   "version": "3.12.4"
>>>>>>> 3104567 (Submitting Lab Python Error Handling)
  }
 },
 "nbformat": 4,
 "nbformat_minor": 5
}
